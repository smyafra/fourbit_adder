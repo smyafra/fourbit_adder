{
  "nbformat": 4,
  "nbformat_minor": 0,
  "metadata": {
    "colab": {
      "provenance": []
    },
    "kernelspec": {
      "name": "python3",
      "display_name": "Python 3"
    },
    "language_info": {
      "name": "python"
    }
  },
  "cells": [
    {
      "cell_type": "code",
      "execution_count": 21,
      "metadata": {
        "colab": {
          "base_uri": "https://localhost:8080/"
        },
        "id": "d3i_Z3_J1S1Z",
        "outputId": "6eaf5efd-09ed-4dfe-9e97-47b3aa14a621"
      },
      "outputs": [
        {
          "output_type": "stream",
          "name": "stdout",
          "text": [
            "enter two four digit binary numbers with a space in between: 1111 1010\n",
            "(True, True, False, False, True)\n",
            "11001\n"
          ]
        }
      ],
      "source": [
        "def HalfAdder(inp1, inp2):\n",
        "  carry = inp1 and inp2\n",
        "  sum = inp1 != inp2\n",
        "  return(sum,carry)\n",
        "def FullAdder(in1,in2,in3):\n",
        "  sum = HalfAdder(in3, HalfAdder(in1, in2)[0])[0]\n",
        "  carry = HalfAdder(in1,in2)[1] or (HalfAdder(in3 , HalfAdder(in1, in2)[0])[1])\n",
        "  return (sum, carry)\n",
        "# we want to add two for digit binary numbers, e.g. a0a1a2a3 and b0b1b2b3\n",
        "def four_bit_adder(in1, in2):\n",
        "  #fullader3 (the rightest one), as it is obvious for this digit carry=0\n",
        "  sum1, carry1 = FullAdder (in1[3], in2[3], bool(0))\n",
        "  sum2, carry2 = FullAdder(in1[2], in2[2], carry1)\n",
        "  sum3, carry3 = FullAdder (in1[1], in2[1], carry2)\n",
        "  sum4 , carry4 = FullAdder (in1[0], in2[0], carry3)\n",
        "  return (carry4, sum4, sum3, sum2, sum1)\n",
        "\n",
        "\n",
        "numbers_str = input(\"enter two four digit binary numbers with a space in between: \")\n",
        "num1_str = numbers_str.split()[0]\n",
        "num2_str = numbers_str.split()[1]\n",
        "\n",
        "num1 = []\n",
        "num2 = []\n",
        "for i in range(0,4):\n",
        "  num1.append(bool(int(num1_str[i])))\n",
        "  num2.append(bool(int(num2_str[i])))\n",
        "\n",
        "result = four_bit_adder(num1, num2)\n",
        "result_to_show = str(int(result[0])) + str(int(result[1])) + str(int(result[2])) + str(int(result[3])) + str(int(result[4]))\n",
        "\n",
        "print(result)\n",
        "print(result_to_show)\n",
        "\n",
        "\n",
        "\n",
        "\n"
      ]
    }
  ]
}